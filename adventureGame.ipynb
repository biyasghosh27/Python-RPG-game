{
 "cells": [
  {
   "cell_type": "code",
   "execution_count": 22,
   "metadata": {},
   "outputs": [],
   "source": [
    "import time\n",
    "import random\n",
    "\n",
    "wizard = {'strength':1, 'defence':1, 'magic':100, 'health':20, 'gold':20}\n",
    "dwarf = {'strength':60, 'defence':6, 'magic':10, 'health':20, 'gold':100000}\n",
    "elf = {'strength':3, 'defence':12, 'magic':50, 'health':200, 'gold':1}\n",
    "available_point = 5\n",
    "\n",
    "class character:\n",
    "    def __init__(self, strength, defence, magic, health, gold):\n",
    "        self.strength = strength\n",
    "        self.defence = defence\n",
    "        self.magic = magic\n",
    "        self.health = health\n",
    "        self.gold = gold\n",
    "\n",
    "    def stats(self):\n",
    "        print(\"your stats: Strength: {}, Defence: {}, Health: {}, Gold: {}\".format( self.strength, self.defence, self.health, self.gold))\n",
    "\n",
    "\n",
    "\n",
    "class enemy:\n",
    "    def __init__(self, strength, defence, health):\n",
    "        self.strength = strength\n",
    "        self.defence = defence\n",
    "        self.health = health\n",
    "\n",
    "skeleton = enemy(2,1,3)\n",
    "scary_cat = enemy(1000,1,1)"
   ]
  },
  {
   "cell_type": "code",
   "execution_count": 23,
   "metadata": {},
   "outputs": [],
   "source": [
    "def attack(attacker_strength, defender_defence):\n",
    "    damage = attacker_strength - defender_defence\n",
    "    return damage"
   ]
  },
  {
   "cell_type": "code",
   "execution_count": 24,
   "metadata": {},
   "outputs": [],
   "source": [
    "user_race = input('choose your race: wizard (w), dwarf (d) or elf (e):')\n",
    "\n",
    "if user_race == 'w':\n",
    "    user_character = character(wizard['strength'], wizard['defence'], wizard['magic'], wizard['health'], wizard['gold'])\n",
    "elif user_race == 'd':\n",
    "    user_character = character(dwarf['strength'], dwarf['defence'], dwarf['magic'], dwarf['health'], dwarf['gold'])\n",
    "elif user_race == 'e':\n",
    "    user_character = character(elf['strength'], elf['defence'], elf['magic'], elf['health'], elf['gold'])\n",
    "else:\n",
    "    print(\"invalid choice\")\n"
   ]
  },
  {
   "cell_type": "code",
   "execution_count": 25,
   "metadata": {},
   "outputs": [
    {
     "name": "stdout",
     "output_type": "stream",
     "text": [
      "welcome warrior\n",
      "Hello biyas!\n"
     ]
    }
   ],
   "source": [
    "print(\"welcome warrior\")\n",
    "user_name = input(\"What's your name? \")\n",
    "print(\"Hello {}!\".format(user_name))"
   ]
  },
  {
   "cell_type": "code",
   "execution_count": 26,
   "metadata": {},
   "outputs": [
    {
     "name": "stdout",
     "output_type": "stream",
     "text": [
      "you may now add points to whichever stat you want:\n",
      "Points avaiable: 5 \n",
      "your stats: Strength: 1, Defence: 1, Health: 20, Gold: 20\n",
      "Points avaiable: 4 \n",
      "your stats: Strength: 2, Defence: 1, Health: 20, Gold: 20\n",
      "Points avaiable: 3 \n",
      "your stats: Strength: 2, Defence: 2, Health: 20, Gold: 20\n",
      "Points avaiable: 2 \n",
      "your stats: Strength: 3, Defence: 2, Health: 20, Gold: 20\n",
      "Points avaiable: 1 \n",
      "your stats: Strength: 3, Defence: 3, Health: 20, Gold: 20\n",
      "Points avaiable: 0 \n",
      "your stats: Strength: 4, Defence: 3, Health: 20, Gold: 20\n",
      "Points used up now!\n"
     ]
    }
   ],
   "source": [
    "available_point = 5\n",
    "print(\"you may now add points to whichever stat you want:\")\n",
    "\n",
    "while available_point >= 0:\n",
    "    print(\"Points avaiable: {} \".format(available_point))\n",
    "    user_character.stats()\n",
    "    point_choice = input(\"Which attribute do you want to add to?(s/d) \")\n",
    "    if point_choice == 's':\n",
    "        user_character.strength += 1\n",
    "    elif point_choice == 'd':\n",
    "        user_character.defence += 1\n",
    "    else:\n",
    "        print('invalid')\n",
    "    available_point -= 1\n",
    "print(\"Points used up now!\")"
   ]
  },
  {
   "cell_type": "code",
   "execution_count": 27,
   "metadata": {},
   "outputs": [
    {
     "name": "stdout",
     "output_type": "stream",
     "text": [
      "your stats: Strength: 4, Defence: 4, Health: 20, Gold: 20\n",
      "biyas, as you walk down the path you realise there's three path to reach to the place where the treasure is located. In the left path a skeleton is beckoning you (1) and to the right path there is a pirate standing with a sachet full of ancient coins (2) and there's a scary looking cat up a sycamore tree (3).\n",
      "your stats: Strength: 4, Defence: 4, Health: 20, Gold: 20\n",
      "biyas, as you walk down the path you realise there's three path to reach to the place where the treasure is located. In the left path a skeleton is beckoning you (1) and to the right path there is a pirate standing with a sachet full of ancient coins (2) and there's a scary looking cat up a sycamore tree (3).\n",
      "he says, 'thats nice! here is some money'\n",
      "your stats: Strength: 4, Defence: 4, Health: 20, Gold: 120\n",
      "biyas, as you walk down the path you realise there's three path to reach to the place where the treasure is located. In the left path a skeleton is beckoning you (1) and to the right path there is a pirate standing with a sachet full of ancient coins (2) and there's a scary looking cat up a sycamore tree (3).\n",
      "he says, 'thats nice! here is some money'\n",
      "your stats: Strength: 4, Defence: 4, Health: 20, Gold: 220\n",
      "biyas, as you walk down the path you realise there's three path to reach to the place where the treasure is located. In the left path a skeleton is beckoning you (1) and to the right path there is a pirate standing with a sachet full of ancient coins (2) and there's a scary looking cat up a sycamore tree (3).\n"
     ]
    }
   ],
   "source": [
    "player  = True\n",
    "while player == True:\n",
    "    user_character.stats()\n",
    "    #print(\"your stats, {}: Health: {}, Gold: {}\".format(user_name, user_character.health, user_character.gold))\n",
    "    print(\"{}, as you walk down the path you realise there's three path to reach to the place where the treasure is located. In the left path a skeleton is beckoning you (1) and to the right path there is a pirate standing with a sachet full of ancient coins (2) and there's a scary looking cat up a sycamore tree (3).\".format(user_name))\n",
    "    user_path_choice = input(\"which would you like to do? (choose 1 or 2 or 3 in the choices above) and 0 for exit:\")\n",
    "\n",
    "    if user_path_choice == '1':\n",
    "        if random.uniform(0,1) < 0.6:\n",
    "            #enter here skeleton fight \n",
    "            fight_option = input(\"you see....a skeleton. Fight?(y/n)\")\n",
    "            if fight_option == 'y':\n",
    "                while 1==1:\n",
    "                    #user strikes first\n",
    "                    damage = attack(user_character.strength, skeleton.defence)\n",
    "                    skeleton.health -= damage\n",
    "                    print('WHACK!! -- skeleton health is: {}'.format(skeleton.health))\n",
    "                    if(skeleton.health <= 0):\n",
    "                        print(\"Skeleton dies...\")\n",
    "                        break\n",
    "                    time.sleep(2)\n",
    "                    \n",
    "                    print(\"Now the skeleton attacks...\")\n",
    "                    time.sleep(2)\n",
    "                    #enemy strikes back\n",
    "                    damage = attack(skeleton.strength,user_character.defence)\n",
    "                    user_character.health -= damage\n",
    "                    print('WHACK!! -- your health is: {}'.format(user_character.health))\n",
    "                    time.sleep(2)\n",
    "\n",
    "                    if(user_character.health <= 0):\n",
    "                        print(\"You die!!!\")\n",
    "                        player = False\n",
    "                        break\n",
    "                    print('now you attack....')\n",
    "                    time.sleep(2)\n",
    "\n",
    "        else:\n",
    "            print(\"the skeleton ran away....\")\n",
    "\n",
    "\n",
    "    elif user_path_choice == '2':\n",
    "        #user can help with the money bag\n",
    "        help_option = input(\"the pirate asked can you help me? if you help I will give you money...(y/n)\")\n",
    "        if help_option == 'y':\n",
    "            print(\"he says, 'thats nice! here is some money'\")\n",
    "            user_character.gold += 100\n",
    "        else:\n",
    "            print('how rude...*SLAP*')\n",
    "            user_character.health -= 1\n",
    "    elif user_path_choice == '3':\n",
    "        #enter here scary cat fight\n",
    "        fight_option = input(\"you see....a scary cat. Fight?(y/n)\")\n",
    "        if fight_option == 'y':\n",
    "            while 1==1:\n",
    "                #user strikes first\n",
    "                damage = attack(user_character.strength, scary_cat.defence)\n",
    "                scary_cat.health -= damage\n",
    "                print('WHACK!! -- scary_cat health is: {}'.format(scary_cat.health))\n",
    "                if(scary_cat.health <= 0):\n",
    "                    print(\"scary cat dies...\")\n",
    "                    break\n",
    "                time.sleep(2)\n",
    "                \n",
    "                print(\"Now the scary cat attacks...\")\n",
    "                time.sleep(2)\n",
    "                #enemy strikes back\n",
    "                damage = attack(scary_cat.strength,user_character.defence)\n",
    "                user_character.health -= damage\n",
    "                print('WHACK!! -- your health is: {}'.format(user_character.health))\n",
    "                time.sleep(2)\n",
    "\n",
    "                if(user_character.health <= 0):\n",
    "                    print(\"You die!!!\")\n",
    "                    player = False\n",
    "                    break\n",
    "                print('now you attck....')\n",
    "                time.sleep(2)\n",
    "    elif user_path_choice == '0':\n",
    "        break   \n",
    "    else:\n",
    "        print(\"Invalid choice\")\n"
   ]
  }
 ],
 "metadata": {
  "kernelspec": {
   "display_name": "Python 3",
   "language": "python",
   "name": "python3"
  },
  "language_info": {
   "codemirror_mode": {
    "name": "ipython",
    "version": 3
   },
   "file_extension": ".py",
   "mimetype": "text/x-python",
   "name": "python",
   "nbconvert_exporter": "python",
   "pygments_lexer": "ipython3",
   "version": "3.10.1"
  }
 },
 "nbformat": 4,
 "nbformat_minor": 2
}
